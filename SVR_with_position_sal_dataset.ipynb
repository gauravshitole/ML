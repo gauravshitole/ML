{
  "cells": [
    {
      "cell_type": "code",
      "execution_count": null,
      "id": "d8af2928",
      "metadata": {
        "id": "d8af2928",
        "outputId": "19be6768-e913-4c32-feaf-e42e2ca1f05a"
      },
      "outputs": [
        {
          "data": {
            "text/html": [
              "<div>\n",
              "<style scoped>\n",
              "    .dataframe tbody tr th:only-of-type {\n",
              "        vertical-align: middle;\n",
              "    }\n",
              "\n",
              "    .dataframe tbody tr th {\n",
              "        vertical-align: top;\n",
              "    }\n",
              "\n",
              "    .dataframe thead th {\n",
              "        text-align: right;\n",
              "    }\n",
              "</style>\n",
              "<table border=\"1\" class=\"dataframe\">\n",
              "  <thead>\n",
              "    <tr style=\"text-align: right;\">\n",
              "      <th></th>\n",
              "      <th>Position</th>\n",
              "      <th>Level</th>\n",
              "      <th>Salary</th>\n",
              "    </tr>\n",
              "  </thead>\n",
              "  <tbody>\n",
              "    <tr>\n",
              "      <th>0</th>\n",
              "      <td>Business Analyst</td>\n",
              "      <td>1</td>\n",
              "      <td>45000</td>\n",
              "    </tr>\n",
              "    <tr>\n",
              "      <th>1</th>\n",
              "      <td>Junior Consultant</td>\n",
              "      <td>2</td>\n",
              "      <td>50000</td>\n",
              "    </tr>\n",
              "    <tr>\n",
              "      <th>2</th>\n",
              "      <td>Senior Consultant</td>\n",
              "      <td>3</td>\n",
              "      <td>60000</td>\n",
              "    </tr>\n",
              "    <tr>\n",
              "      <th>3</th>\n",
              "      <td>Manager</td>\n",
              "      <td>4</td>\n",
              "      <td>80000</td>\n",
              "    </tr>\n",
              "    <tr>\n",
              "      <th>4</th>\n",
              "      <td>Country Manager</td>\n",
              "      <td>5</td>\n",
              "      <td>110000</td>\n",
              "    </tr>\n",
              "    <tr>\n",
              "      <th>5</th>\n",
              "      <td>Region Manager</td>\n",
              "      <td>6</td>\n",
              "      <td>150000</td>\n",
              "    </tr>\n",
              "    <tr>\n",
              "      <th>6</th>\n",
              "      <td>Partner</td>\n",
              "      <td>7</td>\n",
              "      <td>200000</td>\n",
              "    </tr>\n",
              "    <tr>\n",
              "      <th>7</th>\n",
              "      <td>Senior Partner</td>\n",
              "      <td>8</td>\n",
              "      <td>300000</td>\n",
              "    </tr>\n",
              "    <tr>\n",
              "      <th>8</th>\n",
              "      <td>C-level</td>\n",
              "      <td>9</td>\n",
              "      <td>500000</td>\n",
              "    </tr>\n",
              "    <tr>\n",
              "      <th>9</th>\n",
              "      <td>CEO</td>\n",
              "      <td>10</td>\n",
              "      <td>1000000</td>\n",
              "    </tr>\n",
              "  </tbody>\n",
              "</table>\n",
              "</div>"
            ],
            "text/plain": [
              "            Position  Level   Salary\n",
              "0   Business Analyst      1    45000\n",
              "1  Junior Consultant      2    50000\n",
              "2  Senior Consultant      3    60000\n",
              "3            Manager      4    80000\n",
              "4    Country Manager      5   110000\n",
              "5     Region Manager      6   150000\n",
              "6            Partner      7   200000\n",
              "7     Senior Partner      8   300000\n",
              "8            C-level      9   500000\n",
              "9                CEO     10  1000000"
            ]
          },
          "execution_count": 2,
          "metadata": {},
          "output_type": "execute_result"
        }
      ],
      "source": [
        "import pandas as pd\n",
        "import numpy as np\n",
        "import matplotlib.pyplot as plt\n",
        "dataset=pd.read_csv(\"D:/swati/swati_G/Swati_Jadhav_study_material/ML/dataset/position_sal.csv\")\n",
        "dataset"
      ]
    },
    {
      "cell_type": "code",
      "execution_count": null,
      "id": "ddaceb0a",
      "metadata": {
        "id": "ddaceb0a"
      },
      "outputs": [],
      "source": [
        "x=dataset.iloc[:,1:2].values\n",
        "y=dataset.iloc[:,2:].values"
      ]
    },
    {
      "cell_type": "code",
      "execution_count": null,
      "id": "736b5d73",
      "metadata": {
        "id": "736b5d73",
        "outputId": "a4d91939-504d-482a-f2e6-ac444321ed25"
      },
      "outputs": [
        {
          "data": {
            "text/plain": [
              "array([[ 1],\n",
              "       [ 2],\n",
              "       [ 3],\n",
              "       [ 4],\n",
              "       [ 5],\n",
              "       [ 6],\n",
              "       [ 7],\n",
              "       [ 8],\n",
              "       [ 9],\n",
              "       [10]], dtype=int64)"
            ]
          },
          "execution_count": 4,
          "metadata": {},
          "output_type": "execute_result"
        }
      ],
      "source": [
        "x"
      ]
    },
    {
      "cell_type": "code",
      "execution_count": null,
      "id": "ba06bc6f",
      "metadata": {
        "scrolled": true,
        "id": "ba06bc6f",
        "outputId": "22aa16fa-a484-40ca-c359-7f54efc0bfc3"
      },
      "outputs": [
        {
          "data": {
            "text/plain": [
              "array([[  45000],\n",
              "       [  50000],\n",
              "       [  60000],\n",
              "       [  80000],\n",
              "       [ 110000],\n",
              "       [ 150000],\n",
              "       [ 200000],\n",
              "       [ 300000],\n",
              "       [ 500000],\n",
              "       [1000000]], dtype=int64)"
            ]
          },
          "execution_count": 5,
          "metadata": {},
          "output_type": "execute_result"
        }
      ],
      "source": [
        "y\n"
      ]
    },
    {
      "cell_type": "code",
      "execution_count": null,
      "id": "dc54bcce",
      "metadata": {
        "scrolled": true,
        "id": "dc54bcce"
      },
      "outputs": [],
      "source": [
        "from sklearn.preprocessing import StandardScaler\n"
      ]
    },
    {
      "cell_type": "code",
      "execution_count": null,
      "id": "ff163f94",
      "metadata": {
        "id": "ff163f94"
      },
      "outputs": [],
      "source": [
        "st_x=StandardScaler()\n",
        "st_y=StandardScaler()"
      ]
    },
    {
      "cell_type": "code",
      "execution_count": null,
      "id": "09efb0a4",
      "metadata": {
        "id": "09efb0a4"
      },
      "outputs": [],
      "source": [
        "X=st_x.fit_transform(x)\n",
        "Y=st_y.fit_transform(y)"
      ]
    },
    {
      "cell_type": "code",
      "execution_count": null,
      "id": "6b1393cc",
      "metadata": {
        "id": "6b1393cc",
        "outputId": "9d8e4f4e-0f4a-45ee-a411-cfe3535088fc"
      },
      "outputs": [
        {
          "data": {
            "text/plain": [
              "<matplotlib.collections.PathCollection at 0x282ec6c61f0>"
            ]
          },
          "execution_count": 9,
          "metadata": {},
          "output_type": "execute_result"
        },
        {
          "data": {
            "image/png": "[encoded data removed]",
            "text/plain": [
              "<Figure size 432x288 with 1 Axes>"
            ]
          },
          "metadata": {
            "needs_background": "light"
          },
          "output_type": "display_data"
        }
      ],
      "source": [
        "fig=plt.figure()\n",
        "ax=fig.add_axes([0,0,1,1])\n",
        "ax.scatter(X,Y,color='r')\n"
      ]
    },
    {
      "cell_type": "code",
      "execution_count": null,
      "id": "8d1143d0",
      "metadata": {
        "id": "8d1143d0"
      },
      "outputs": [],
      "source": [
        "from sklearn.svm import SVR"
      ]
    },
    {
      "cell_type": "code",
      "execution_count": null,
      "id": "a1a80e63",
      "metadata": {
        "id": "a1a80e63"
      },
      "outputs": [],
      "source": [
        "regressor=SVR(kernel='rbf')"
      ]
    },
    {
      "cell_type": "code",
      "execution_count": null,
      "id": "5349b65c",
      "metadata": {
        "id": "5349b65c",
        "outputId": "eb8650ca-b233-4015-e759-709f8b49c6a2"
      },
      "outputs": [
        {
          "name": "stderr",
          "output_type": "stream",
          "text": [
            "C:\\Users\\swati\\anaconda3\\lib\\site-packages\\sklearn\\utils\\validation.py:63: DataConversionWarning: A column-vector y was passed when a 1d array was expected. Please change the shape of y to (n_samples, ), for example using ravel().\n",
            "  return f(*args, **kwargs)\n"
          ]
        },
        {
          "data": {
            "text/plain": [
              "SVR()"
            ]
          },
          "execution_count": 12,
          "metadata": {},
          "output_type": "execute_result"
        }
      ],
      "source": [
        "regressor.fit(X,Y)"
      ]
    },
    {
      "cell_type": "code",
      "execution_count": null,
      "id": "8f5dceb3",
      "metadata": {
        "scrolled": false,
        "id": "8f5dceb3",
        "outputId": "fc7f922f-9019-4579-d4fe-e635cae39e26"
      },
      "outputs": [
        {
          "data": {
            "text/plain": [
              "[<matplotlib.lines.Line2D at 0x282ed1109a0>]"
            ]
          },
          "execution_count": 13,
          "metadata": {},
          "output_type": "execute_result"
        },
        {
          "data": {
            "image/png": "[encoded data removed]",
            "text/plain": [
              "<Figure size 432x288 with 1 Axes>"
            ]
          },
          "metadata": {
            "needs_background": "light"
          },
          "output_type": "display_data"
        }
      ],
      "source": [
        "plt.scatter(X,Y,color='red')\n",
        "plt.plot(X,regressor.predict(X),color='blue')\n"
      ]
    },
    {
      "cell_type": "code",
      "execution_count": null,
      "id": "2e79757e",
      "metadata": {
        "id": "2e79757e",
        "outputId": "d7b0e02c-fbcc-427e-b1f5-908969ff9b35"
      },
      "outputs": [
        {
          "data": {
            "text/plain": [
              "0.7516001070620798"
            ]
          },
          "execution_count": 16,
          "metadata": {},
          "output_type": "execute_result"
        }
      ],
      "source": [
        "regressor.score(X,Y)"
      ]
    },
    {
      "cell_type": "code",
      "execution_count": null,
      "id": "4ff2e158",
      "metadata": {
        "id": "4ff2e158"
      },
      "outputs": [],
      "source": [
        "\n",
        "regressor=SVR(kernel='linear')"
      ]
    },
    {
      "cell_type": "code",
      "execution_count": null,
      "id": "68c3c2b7",
      "metadata": {
        "id": "68c3c2b7",
        "outputId": "4d5e4a80-c426-43de-acd8-1869fe8f7022"
      },
      "outputs": [
        {
          "name": "stderr",
          "output_type": "stream",
          "text": [
            "C:\\Users\\swati\\anaconda3\\lib\\site-packages\\sklearn\\utils\\validation.py:63: DataConversionWarning: A column-vector y was passed when a 1d array was expected. Please change the shape of y to (n_samples, ), for example using ravel().\n",
            "  return f(*args, **kwargs)\n"
          ]
        },
        {
          "data": {
            "text/plain": [
              "SVR(kernel='linear')"
            ]
          },
          "execution_count": 18,
          "metadata": {},
          "output_type": "execute_result"
        }
      ],
      "source": [
        "regressor.fit(X,Y)\n"
      ]
    },
    {
      "cell_type": "code",
      "execution_count": null,
      "id": "5939379b",
      "metadata": {
        "id": "5939379b",
        "outputId": "cfb4bbf6-cf6b-42d8-beed-2089b5311ec4"
      },
      "outputs": [
        {
          "data": {
            "text/plain": [
              "[<matplotlib.lines.Line2D at 0x282ee77cdc0>]"
            ]
          },
          "execution_count": 19,
          "metadata": {},
          "output_type": "execute_result"
        },
        {
          "data": {
            "image/png": "[encoded data removed]",
            "text/plain": [
              "<Figure size 432x288 with 1 Axes>"
            ]
          },
          "metadata": {
            "needs_background": "light"
          },
          "output_type": "display_data"
        }
      ],
      "source": [
        "plt.scatter(X,Y,color='red')\n",
        "plt.plot(X,regressor.predict(X),color='blue')"
      ]
    },
    {
      "cell_type": "code",
      "execution_count": null,
      "id": "017ab02d",
      "metadata": {
        "id": "017ab02d",
        "outputId": "cbd2a588-e633-4276-8e5f-880791430fc6"
      },
      "outputs": [
        {
          "data": {
            "text/plain": [
              "0.45378133514512575"
            ]
          },
          "execution_count": 20,
          "metadata": {},
          "output_type": "execute_result"
        }
      ],
      "source": [
        "regressor.score(X,Y)"
      ]
    },
    {
      "cell_type": "code",
      "execution_count": null,
      "id": "35c716a4",
      "metadata": {
        "id": "35c716a4"
      },
      "outputs": [],
      "source": [
        "regressor=SVR(kernel='poly')"
      ]
    },
    {
      "cell_type": "code",
      "execution_count": null,
      "id": "e214129a",
      "metadata": {
        "id": "e214129a",
        "outputId": "fcd21d98-68d3-4160-b6f4-756e38191896"
      },
      "outputs": [
        {
          "name": "stderr",
          "output_type": "stream",
          "text": [
            "C:\\Users\\swati\\anaconda3\\lib\\site-packages\\sklearn\\utils\\validation.py:63: DataConversionWarning: A column-vector y was passed when a 1d array was expected. Please change the shape of y to (n_samples, ), for example using ravel().\n",
            "  return f(*args, **kwargs)\n"
          ]
        },
        {
          "data": {
            "text/plain": [
              "SVR(kernel='poly')"
            ]
          },
          "execution_count": 22,
          "metadata": {},
          "output_type": "execute_result"
        }
      ],
      "source": [
        "regressor.fit(X,Y)"
      ]
    },
    {
      "cell_type": "code",
      "execution_count": null,
      "id": "ff00c423",
      "metadata": {
        "id": "ff00c423",
        "outputId": "83be0642-6b61-41eb-eefc-1e53351b88ca"
      },
      "outputs": [
        {
          "data": {
            "text/plain": [
              "[<matplotlib.lines.Line2D at 0x282ee703ca0>]"
            ]
          },
          "execution_count": 23,
          "metadata": {},
          "output_type": "execute_result"
        },
        {
          "data": {
            "image/png": "[encoded data removed]",
            "text/plain": [
              "<Figure size 432x288 with 1 Axes>"
            ]
          },
          "metadata": {
            "needs_background": "light"
          },
          "output_type": "display_data"
        }
      ],
      "source": [
        "plt.scatter(X,Y,color='red')\n",
        "plt.plot(X,regressor.predict(X),color='blue')"
      ]
    },
    {
      "cell_type": "code",
      "execution_count": null,
      "id": "b223c463",
      "metadata": {
        "id": "b223c463",
        "outputId": "2543bf24-7b0a-4429-9cd9-399cfabf2b06"
      },
      "outputs": [
        {
          "data": {
            "text/plain": [
              "0.645363428211517"
            ]
          },
          "execution_count": 24,
          "metadata": {},
          "output_type": "execute_result"
        }
      ],
      "source": [
        "regressor.score(X,Y)"
      ]
    },
    {
      "cell_type": "code",
      "execution_count": null,
      "id": "259a2a5f",
      "metadata": {
        "id": "259a2a5f"
      },
      "outputs": [],
      "source": []
    }
  ],
  "metadata": {
    "kernelspec": {
      "display_name": "Python 3 (ipykernel)",
      "language": "python",
      "name": "python3"
    },
    "language_info": {
      "codemirror_mode": {
        "name": "ipython",
        "version": 3
      },
      "file_extension": ".py",
      "mimetype": "text/x-python",
      "name": "python",
      "nbconvert_exporter": "python",
      "pygments_lexer": "ipython3",
      "version": "3.9.7"
    },
    "colab": {
      "provenance": []
    }
  },
  "nbformat": 4,
  "nbformat_minor": 5
}